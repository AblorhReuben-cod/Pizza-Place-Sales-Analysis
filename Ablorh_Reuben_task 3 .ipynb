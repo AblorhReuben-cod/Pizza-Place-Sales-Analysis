{
 "cells": [
  {
   "cell_type": "code",
   "execution_count": 1,
   "id": "7a1cbcb0-53ed-4776-8454-ae7db7c67e62",
   "metadata": {},
   "outputs": [],
   "source": [
    "import pandas as pd\n",
    "import zipfile\n",
    "import os\n",
    "import matplotlib.pyplot as plt\n",
    "import seaborn as sns"
   ]
  },
  {
   "cell_type": "markdown",
   "id": "abc3af19-ba21-41b6-a834-45b831ad616d",
   "metadata": {},
   "source": [
    "#### === Setting ==="
   ]
  },
  {
   "cell_type": "code",
   "execution_count": 2,
   "id": "ec5f5d07-fc36-4c2f-9a76-d18eba4736a7",
   "metadata": {},
   "outputs": [],
   "source": [
    "zip_path = \"Pizza+Place+Sales.zip\"\n",
    "extract_dir = \"pizza_sales_data\""
   ]
  },
  {
   "cell_type": "markdown",
   "id": "aa423882-5f01-41b5-b18f-8044150d5287",
   "metadata": {},
   "source": [
    "#### === Extract Zip ==="
   ]
  },
  {
   "cell_type": "code",
   "execution_count": 3,
   "id": "48c85af9-3aa4-43ec-bed1-9c873c7de4b0",
   "metadata": {},
   "outputs": [],
   "source": [
    "# === 1. Extract Zip ===\n",
    "with zipfile.ZipFile(zip_path, 'r') as zip_ref:\n",
    "    zip_ref.extractall(extract_dir)"
   ]
  },
  {
   "cell_type": "markdown",
   "id": "56a97451-89bb-432a-8bca-90a9bba089c4",
   "metadata": {},
   "source": [
    "#### === Load CSV files ==="
   ]
  },
  {
   "cell_type": "code",
   "execution_count": 4,
   "id": "e921adf5-33df-436e-ab64-44f81a624556",
   "metadata": {},
   "outputs": [],
   "source": [
    "# === 2. Load CSV files ===\n",
    "data_path = os.path.join(extract_dir, \"pizza_sales\")\n",
    "orders = pd.read_csv(os.path.join(data_path, \"orders.csv\"))\n",
    "order_details = pd.read_csv(os.path.join(data_path, \"order_details.csv\"))\n",
    "pizzas = pd.read_csv(os.path.join(data_path, \"pizzas.csv\"))\n",
    "pizza_types = pd.read_csv(os.path.join(data_path, \"pizza_types.csv\"), encoding='ISO-8859-1') \n",
    "#CSV file pizza_types.csv contains characters that are not encoded in UTF-8,which is the default encoding used by pandas.read_csv."
   ]
  },
  {
   "cell_type": "markdown",
   "id": "ab4e64b9-547d-4c41-9557-69667b876585",
   "metadata": {},
   "source": [
    "##### === Preprocess Data ==="
   ]
  },
  {
   "cell_type": "code",
   "execution_count": 5,
   "id": "e650123f-dada-4c3f-842c-ce321ae19c3a",
   "metadata": {},
   "outputs": [],
   "source": [
    "orders['date'] = pd.to_datetime(orders['date'])\n",
    "orders['time'] = pd.to_datetime(orders['time'], format='%H:%M:%S').dt.time"
   ]
  },
  {
   "cell_type": "code",
   "execution_count": 6,
   "id": "04a9a068-48bc-4e6f-9f35-f2b17f9f3fed",
   "metadata": {},
   "outputs": [],
   "source": [
    "# Merge all datasets \n",
    "merged_df = order_details.merge(pizzas, on='pizza_id') \\\n",
    "                         .merge(orders, on='order_id') \\\n",
    "                         .merge(pizza_types, on='pizza_type_id')"
   ]
  },
  {
   "cell_type": "code",
   "execution_count": 7,
   "id": "ccb66b7d-b456-4cc8-a84b-7aebce95a23a",
   "metadata": {},
   "outputs": [],
   "source": [
    "# Add revenue column\n",
    "merged_df['total_price'] = merged_df['quantity'] * merged_df['price']"
   ]
  },
  {
   "cell_type": "markdown",
   "id": "7a1d654f-d21d-480a-b0c5-9665ef7c171f",
   "metadata": {},
   "source": [
    "#### === ANALYSIS ==="
   ]
  },
  {
   "cell_type": "code",
   "execution_count": 8,
   "id": "d15f8206-1701-4b79-a7c4-dac81d024b95",
   "metadata": {},
   "outputs": [
    {
     "name": "stdout",
     "output_type": "stream",
     "text": [
      "1. Total Revenue: $817,860.05\n"
     ]
    }
   ],
   "source": [
    "#1. Total Revenue \n",
    "print(f\"1. Total Revenue: ${merged_df['total_price'].sum():,.2f}\")"
   ]
  },
  {
   "cell_type": "code",
   "execution_count": 9,
   "id": "299f81df-ce82-49dd-a065-a6f6bbaf5c07",
   "metadata": {},
   "outputs": [
    {
     "name": "stdout",
     "output_type": "stream",
     "text": [
      "2. Total Quantity Sold: 49574\n"
     ]
    }
   ],
   "source": [
    "#2. Total Quantity Sold \n",
    "print(f\"2. Total Quantity Sold: {merged_df['quantity'].sum()}\")"
   ]
  },
  {
   "cell_type": "code",
   "execution_count": 10,
   "id": "5810c109-d782-4b19-bcc6-0045d0b03304",
   "metadata": {},
   "outputs": [
    {
     "name": "stdout",
     "output_type": "stream",
     "text": [
      "3. Total Orders: 21350\n"
     ]
    }
   ],
   "source": [
    "#3. Total Orders \n",
    "print(f\"3. Total Orders: {orders['order_id'].nunique()}\")"
   ]
  },
  {
   "cell_type": "code",
   "execution_count": 11,
   "id": "b51f4ad0-3246-46f0-9fbe-5cc07bee6599",
   "metadata": {},
   "outputs": [
    {
     "name": "stdout",
     "output_type": "stream",
     "text": [
      "4. Unique Pizza Types: 32\n"
     ]
    }
   ],
   "source": [
    "#4. Pizza Types \n",
    "print(f\"4. Unique Pizza Types: {pizza_types['pizza_type_id'].nunique()}\")"
   ]
  },
  {
   "cell_type": "code",
   "execution_count": 12,
   "id": "843ae749-7269-402b-8343-7f534f48535f",
   "metadata": {},
   "outputs": [
    {
     "name": "stdout",
     "output_type": "stream",
     "text": [
      "5. Average Pizza Price: $16.44\n"
     ]
    }
   ],
   "source": [
    "#5. Average Pizza Price \n",
    "print(f\"5. Average Pizza Price: ${pizzas['price'].mean():.2f}\")"
   ]
  },
  {
   "cell_type": "code",
   "execution_count": 13,
   "id": "b433e3cd-7330-4b13-843a-6863b0707d2a",
   "metadata": {},
   "outputs": [
    {
     "name": "stdout",
     "output_type": "stream",
     "text": [
      "6. Peak Sales Hour: 12.0\n"
     ]
    }
   ],
   "source": [
    "#6. Peak Sales Hours \n",
    "orders['hour'] = pd.to_datetime(orders['time'], format='%H:%M:%S').dt.hour\n",
    "hourly_sales = merged_df.groupby(orders['hour'])['total_price'].sum()\n",
    "print(f\"6. Peak Sales Hour: {hourly_sales.idxmax()}\")"
   ]
  },
  {
   "cell_type": "code",
   "execution_count": 14,
   "id": "769074fd-8bcf-4894-b0cb-69cf0c8f4839",
   "metadata": {},
   "outputs": [
    {
     "name": "stdout",
     "output_type": "stream",
     "text": [
      "\n",
      "7. Sales by Day of Week:\n",
      "day_of_week\n",
      "Friday       59735.00\n",
      "Thursday     54586.95\n",
      "Saturday     53367.00\n",
      "Wednesday    50910.90\n",
      "Tuesday      50002.30\n",
      "Monday       46479.90\n",
      "Sunday       44146.50\n",
      "Name: total_price, dtype: float64\n",
      "Top Day: Friday\n"
     ]
    }
   ],
   "source": [
    "#7. Sales by Day of Week \n",
    "orders['day_of_week'] = orders['date'].dt.day_name()\n",
    "weekly_sales = merged_df.groupby(orders['day_of_week'])['total_price'].sum()\n",
    "print(\"\\n7. Sales by Day of Week:\")\n",
    "print(weekly_sales.sort_values(ascending=False))\n",
    "print(f\"Top Day: {weekly_sales.idxmax()}\")"
   ]
  },
  {
   "cell_type": "code",
   "execution_count": 15,
   "id": "1a196ff9-b668-4828-a890-67cb19320a7e",
   "metadata": {},
   "outputs": [
    {
     "name": "stdout",
     "output_type": "stream",
     "text": [
      "\n",
      "8. Top 5 Bestselling Pizzas:\n",
      "pizza_id\n",
      "big_meat_s       1914\n",
      "thai_ckn_l       1410\n",
      "five_cheese_l    1409\n",
      "four_cheese_l    1316\n",
      "classic_dlx_m    1181\n",
      "Name: quantity, dtype: int64\n"
     ]
    }
   ],
   "source": [
    "#8. Top 5 Bestselling Prizzas\n",
    "top_5_pizzas = merged_df.groupby('pizza_id')['quantity'].sum().sort_values(ascending=False).head(5)\n",
    "print(\"\\n8. Top 5 Bestselling Pizzas:\")\n",
    "print(top_5_pizzas)"
   ]
  },
  {
   "cell_type": "code",
   "execution_count": 16,
   "id": "74e68ca1-1317-4c48-8f48-0acf6aa9eec2",
   "metadata": {},
   "outputs": [
    {
     "name": "stdout",
     "output_type": "stream",
     "text": [
      "\n",
      "9. Monthly Sales:\n",
      "month\n",
      "July         72557.90\n",
      "May          71402.75\n",
      "March        70397.10\n",
      "November     70395.35\n",
      "January      69793.30\n",
      "April        68736.80\n",
      "August       68278.25\n",
      "June         68230.20\n",
      "February     65159.60\n",
      "December     64701.15\n",
      "September    64180.05\n",
      "October      64027.60\n",
      "Name: total_price, dtype: float64\n"
     ]
    }
   ],
   "source": [
    "# 9. Monthly Sales\n",
    "merged_df['month'] = merged_df['date'].dt.month_name()\n",
    "monthly_sales = merged_df.groupby('month')['total_price'].sum()\n",
    "print(\"\\n9. Monthly Sales:\")\n",
    "print(monthly_sales.sort_values(ascending=False))"
   ]
  },
  {
   "cell_type": "code",
   "execution_count": 17,
   "id": "f308f47e-135b-4805-9479-66e2411ce531",
   "metadata": {},
   "outputs": [
    {
     "name": "stdout",
     "output_type": "stream",
     "text": [
      "\n",
      "10. Bottom 5 Pizza Types by Sales:\n",
      "pizza_type_id\n",
      "brie_carre      11588.50\n",
      "green_garden    13955.75\n",
      "spinach_supr    15277.75\n",
      "mediterraneo    15360.50\n",
      "spin_pesto      15596.00\n",
      "Name: total_price, dtype: float64\n"
     ]
    }
   ],
   "source": [
    "# 10. Underperforming Pizza types\n",
    "low_sales_types = merged_df.groupby('pizza_type_id')['total_price'].sum().sort_values().head()\n",
    "print(\"\\n10. Bottom 5 Pizza Types by Sales:\")\n",
    "print(low_sales_types)"
   ]
  },
  {
   "cell_type": "markdown",
   "id": "00ca9840-a901-4f18-8025-9f0ef4d73e7a",
   "metadata": {},
   "source": [
    "#### === Visualizations ==="
   ]
  },
  {
   "cell_type": "code",
   "execution_count": 20,
   "id": "0f5b2f31-39f7-4e6b-a4f6-377cf0a004d4",
   "metadata": {},
   "outputs": [
    {
     "data": {
      "image/png": "[encoded data removed]",
      "text/plain": [
       "<Figure size 1000x500 with 1 Axes>"
      ]
     },
     "metadata": {},
     "output_type": "display_data"
    }
   ],
   "source": [
    "# Visualization of Sales by Hour\n",
    "plt.figure(figsize=(10, 5))\n",
    "sns.barplot(x=hourly_sales.index, y=hourly_sales.values)\n",
    "plt.title(\"Sales by Hour\")\n",
    "plt.xlabel(\"Hour of Day\")\n",
    "plt.ylabel(\"Revenue\")\n",
    "plt.tight_layout()\n",
    "plt.show()"
   ]
  },
  {
   "cell_type": "code",
   "execution_count": 19,
   "id": "8ecab5c9-b910-4cce-b423-5f950fffdd26",
   "metadata": {},
   "outputs": [
    {
     "data": {
      "image/png": "[encoded data removed]",
      "text/plain": [
       "<Figure size 1000x500 with 1 Axes>"
      ]
     },
     "metadata": {},
     "output_type": "display_data"
    }
   ],
   "source": [
    "plt.figure(figsize=(10, 5))\n",
    "weekly_sales = weekly_sales.reindex(['Monday', 'Tuesday', 'Wednesday', 'Thursday', 'Friday', 'Saturday', 'Sunday'])\n",
    "sns.barplot(x=weekly_sales.index, y=weekly_sales.values)\n",
    "plt.title(\"Sales by Day of Week\")\n",
    "plt.xticks(rotation=45)\n",
    "plt.tight_layout()\n",
    "plt.show()"
   ]
  },
  {
   "cell_type": "code",
   "execution_count": null,
   "id": "12c40421-5d03-4f97-8a40-4bbbd6cd7bb3",
   "metadata": {},
   "outputs": [],
   "source": []
  }
 ],
 "metadata": {
  "kernelspec": {
   "display_name": "Python 3 (ipykernel)",
   "language": "python",
   "name": "python3"
  },
  "language_info": {
   "codemirror_mode": {
    "name": "ipython",
    "version": 3
   },
   "file_extension": ".py",
   "mimetype": "text/x-python",
   "name": "python",
   "nbconvert_exporter": "python",
   "pygments_lexer": "ipython3",
   "version": "3.12.7"
  }
 },
 "nbformat": 4,
 "nbformat_minor": 5
}
